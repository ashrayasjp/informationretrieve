{
 "cells": [
  {
   "cell_type": "markdown",
   "metadata": {},
   "source": [
    "### Recommendation System\n"
   ]
  },
  {
   "cell_type": "code",
   "execution_count": 1,
   "metadata": {},
   "outputs": [],
   "source": [
    "import math\n",
    "\n",
    "# Content-based: Movies dataset\n",
    "movies = [\n",
    "    {\"title\": \"Inception\", \"genre\": \"Sci-Fi\", \"director\": \"Nolan\"},\n",
    "    {\"title\": \"Interstellar\", \"genre\": \"Sci-Fi\", \"director\": \"Nolan\"},\n",
    "    {\"title\": \"The Dark Knight\", \"genre\": \"Action\", \"director\": \"Nolan\"},\n",
    "    {\"title\": \"The Shining\", \"genre\": \"Horror\", \"director\": \"Kubrick\"},\n",
    "    {\"title\": \"It\", \"genre\": \"Horror\", \"director\": \"Muschietti\"},\n",
    "]\n",
    "\n",
    "# Collaborative filtering: User ratings\n",
    "user_ratings = {\n",
    "    \"Alice\": {\"Inception\": 5, \"Interstellar\": 4, \"The Shining\": 2},\n",
    "    \"Bob\": {\"Inception\": 4, \"The Dark Knight\": 5, \"It\": 3},\n",
    "    \"Carol\": {\"Interstellar\": 5, \"The Shining\": 4, \"It\": 4},\n",
    "    \"Dave\": {\"Inception\": 2, \"Interstellar\": 5, \"The Dark Knight\": 4}\n",
    "}\n"
   ]
  },
  {
   "cell_type": "markdown",
   "metadata": {},
   "source": [
    "####\n",
    "Content-Based Filtering (Movies by Genre + Director"
   ]
  },
  {
   "cell_type": "code",
   "execution_count": 4,
   "metadata": {},
   "outputs": [
    {
     "name": "stdout",
     "output_type": "stream",
     "text": [
      "Content-based recommendations for 'Inception': ['Interstellar', 'The Dark Knight']\n",
      "Content-based recommendations for 'The Shining': ['It', 'The Dark Knight']\n"
     ]
    }
   ],
   "source": [
    "# Convert a movie into a feature vector (genre + director)\n",
    "def movie_vector(movie):\n",
    "    return [movie[\"genre\"], movie[\"director\"]]\n",
    "\n",
    "# Cosine similarity for features\n",
    "def cosine_similarity_features(f1, f2):\n",
    "    all_features = list(set(f1 + f2))\n",
    "    vec1 = [1 if feat in f1 else 0 for feat in all_features]\n",
    "    vec2 = [1 if feat in f2 else 0 for feat in all_features]\n",
    "    \n",
    "    dot = sum(a*b for a, b in zip(vec1, vec2))\n",
    "    mag1 = math.sqrt(sum(a*a for a in vec1))\n",
    "    mag2 = math.sqrt(sum(b*b for b in vec2))\n",
    "    \n",
    "    if mag1 == 0 or mag2 == 0:\n",
    "        return 0\n",
    "    return dot / (mag1 * mag2)\n",
    "\n",
    "# Recommend similar movies\n",
    "def recommend_movies_content(target_title, top_n=2):\n",
    "    target_movie = next(movie for movie in movies if movie[\"title\"] == target_title)\n",
    "    sims = []\n",
    "    \n",
    "    for movie in movies:\n",
    "        if movie[\"title\"] == target_title:\n",
    "            continue\n",
    "        sim = cosine_similarity_features(movie_vector(target_movie), movie_vector(movie))\n",
    "        sims.append((sim, movie[\"title\"]))\n",
    "    \n",
    "    sims.sort(reverse=True)\n",
    "    return [title for _, title in sims[:top_n]]\n",
    "\n",
    "print(\"Content-based recommendations for 'Inception':\", recommend_movies_content(\"Inception\"))\n",
    "print(\"Content-based recommendations for 'The Shining':\", recommend_movies_content(\"The Shining\"))\n",
    "\n"
   ]
  },
  {
   "cell_type": "markdown",
   "metadata": {},
   "source": [
    "#### Collaborative Filtering (Movies by Ratings)"
   ]
  },
  {
   "cell_type": "code",
   "execution_count": 5,
   "metadata": {},
   "outputs": [],
   "source": [
    "# Cosine similarity between users\n",
    "def cosine_similarity_users(u1, u2):\n",
    "    common_movies = set(u1.keys()) & set(u2.keys())\n",
    "    if not common_movies:\n",
    "        return 0\n",
    "    \n",
    "    vec1 = [u1[m] for m in common_movies]\n",
    "    vec2 = [u2[m] for m in common_movies]\n",
    "    \n",
    "    dot = sum(a*b for a, b in zip(vec1, vec2))\n",
    "    mag1 = math.sqrt(sum(a*a for a in vec1))\n",
    "    mag2 = math.sqrt(sum(b*b for b in vec2))\n",
    "    \n",
    "    if mag1 == 0 or mag2 == 0:\n",
    "        return 0\n",
    "    return dot / (mag1 * mag2)\n",
    "\n",
    "# Predict rating for a user and a movie\n",
    "def predict_rating(user, movie, k=2):\n",
    "    sims = []\n",
    "    for other_user, ratings in user_ratings.items():\n",
    "        if other_user == user or movie not in ratings:\n",
    "            continue\n",
    "        sim = cosine_similarity_users(user_ratings[user], ratings)\n",
    "        sims.append((sim, ratings[movie]))\n",
    "    \n",
    "    sims.sort(reverse=True)\n",
    "    top_k = sims[:k]\n",
    "    if not top_k:\n",
    "        return None\n",
    "    \n",
    "    numerator = sum(sim*rating for sim, rating in top_k)\n",
    "    denominator = sum(sim for sim, _ in top_k)\n",
    "    return numerator / denominator if denominator != 0 else None\n",
    "\n",
    "# Recommend new movies to a user\n",
    "def recommend_movies_collab(user, top_n=2):\n",
    "    all_movies = set(m for r in user_ratings.values() for m in r)\n",
    "    unrated = [m for m in all_movies if m not in user_ratings[user]]\n",
    "    \n",
    "    predictions = [(predict_rating(user, m), m) for m in unrated]\n",
    "    predictions = [(p, m) for p, m in predictions if p is not None]\n",
    "    predictions.sort(reverse=True)\n",
    "    \n",
    "    return [m for _, m in predictions[:top_n]]\n",
    "\n",
    "\n",
    "print(\"Collaborative filtering recommendations for Alice:\", recommend_movies_collab(\"Alice\"))\n",
    "print(\"Collaborative filtering recommendations for Bob:\", recommend_movies_collab(\"Bob\"))\n"
   ]
  }
 ],
 "metadata": {
  "kernelspec": {
   "display_name": "Python 3.10.0 64-bit",
   "language": "python",
   "name": "python3"
  },
  "language_info": {
   "codemirror_mode": {
    "name": "ipython",
    "version": 3
   },
   "file_extension": ".py",
   "mimetype": "text/x-python",
   "name": "python",
   "nbconvert_exporter": "python",
   "pygments_lexer": "ipython3",
   "version": "3.10.0"
  },
  "orig_nbformat": 4,
  "vscode": {
   "interpreter": {
    "hash": "3196968d684371006099b3d55edeef8ed90365227a30deaef86e5d4aa8519be0"
   }
  }
 },
 "nbformat": 4,
 "nbformat_minor": 2
}
