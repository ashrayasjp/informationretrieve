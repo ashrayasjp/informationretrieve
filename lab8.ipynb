{
 "cells": [
  {
   "cell_type": "markdown",
   "id": "77a452b9",
   "metadata": {},
   "source": [
    "## Question Answering"
   ]
  },
  {
   "cell_type": "code",
   "execution_count": 1,
   "id": "1468454f",
   "metadata": {},
   "outputs": [],
   "source": [
    "documents = [\n",
    "    \"Artificial Intelligence (AI) is a branch of computer science that aims to create machines that can perform tasks that normally require human intelligence. Examples include natural language processing, computer vision, and robotics.\",\n",
    "        \"Python is a high-level, interpreted programming language known for its readability and versatility. It supports multiple programming paradigms including procedural, object-oriented, and functional programming.\",\n",
    "        \"The Solar System consists of the Sun and all celestial bodies that orbit it, including planets, moons, asteroids, and comets. The eight major planets are Mercury, Venus, Earth, Mars, Jupiter, Saturn, Uranus, and Neptune.\",\n",
    "        \"World War II was a global conflict that lasted from 1939 to 1945, involving most of the world's nations. It was primarily fought between the Allies and the Axis powers and resulted in significant political and social changes worldwide.\"\n",
    "]"
   ]
  },
  {
   "cell_type": "code",
   "execution_count": 2,
   "id": "faa0af2e",
   "metadata": {},
   "outputs": [],
   "source": [
    "import re\n",
    "import numpy as np\n",
    "from collections import Counter\n",
    "\n",
    "def preprocess(text):\n",
    "    text = text.lower()\n",
    "    text = re.sub(r'[^\\w\\s]', '', text)\n",
    "    return text.split()\n",
    "\n",
    "tokenized_docs = [preprocess(doc) for doc in documents]\n",
    "vocab = sorted(list(set([w for doc in tokenized_docs for w in doc])))\n",
    "\n",
    "def vectorize(doc_tokens, vocab):\n",
    "    vec = [0]*len(vocab)\n",
    "    count = Counter(doc_tokens)\n",
    "    for i, w in enumerate(vocab):\n",
    "        vec[i] = count.get(w, 0)\n",
    "    return vec\n",
    "\n",
    "doc_vectors = [vectorize(doc, vocab) for doc in tokenized_docs]\n"
   ]
  },
  {
   "cell_type": "markdown",
   "id": "315d0cef",
   "metadata": {},
   "source": [
    "### Similarity Based Retrieval"
   ]
  },
  {
   "cell_type": "code",
   "execution_count": 3,
   "id": "d2a80776",
   "metadata": {},
   "outputs": [],
   "source": [
    "def cosine_sim(vec1, vec2):\n",
    "    vec1 = np.array(vec1)\n",
    "    vec2 = np.array(vec2)\n",
    "    if np.linalg.norm(vec1)==0 or np.linalg.norm(vec2)==0:\n",
    "        return 0\n",
    "    return np.dot(vec1, vec2)/(np.linalg.norm(vec1)*np.linalg.norm(vec2))\n",
    "\n",
    "def retrieve(query, doc_vectors, documents, vocab):\n",
    "    query_tokens = preprocess(query)\n",
    "    query_vec = vectorize(query_tokens, vocab)\n",
    "    sims = [cosine_sim(query_vec, doc_vec) for doc_vec in doc_vectors]\n",
    "    best_idx = np.argmax(sims)\n",
    "    return documents[best_idx], sims[best_idx]\n"
   ]
  },
  {
   "cell_type": "markdown",
   "id": "f8ae947d",
   "metadata": {},
   "source": [
    "### Conditional Answering"
   ]
  },
  {
   "cell_type": "code",
   "execution_count": 15,
   "id": "bc9a8529",
   "metadata": {},
   "outputs": [
    {
     "name": "stdout",
     "output_type": "stream",
     "text": [
      "Query: Who created Python?\n",
      "Retrieved Document (Sim=1.00): Python is a high-level, interpreted programming language created by Guido van Rossum.\n",
      "Answer: Python was created by Guido van Rossum.\n",
      "\n",
      "Query: When did World War II happen?\n",
      "Retrieved Document (Sim=1.00): World War II was a global conflict from 1939 to 1945.\n",
      "Answer: World War II lasted from 1939 to 1945.\n",
      "\n",
      "Query: What is AI?\n",
      "Retrieved Document (Sim=1.00): Python is a high-level, interpreted programming language created by Guido van Rossum.\n",
      "Answer: Python is a high-level, interpreted programming language.\n",
      "\n",
      "Query: Where does photosynthesis occur?\n",
      "Retrieved Document (Sim=1.00): Photosynthesis occurs in the chloroplasts of plant cells.\n",
      "Answer: Photosynthesis occurs in the chloroplasts of plant cells.\n",
      "\n",
      "Query: What bodies orbit the Sun?\n",
      "Retrieved Document (Sim=1.00): The Solar System consists of the Sun and all celestial bodies that orbit it.\n",
      "Answer: The Solar System consists of the Sun and all celestial bodies that orbit it.\n",
      "\n"
     ]
    }
   ],
   "source": [
    "\n",
    "\n",
    "# Retrieve a relevant document based on keywords\n",
    "def retrieve_document(query):\n",
    "    query_lower = query.lower()\n",
    "    for doc in documents:\n",
    "        if any(word in doc.lower() for word in query_lower.split()):\n",
    "            return doc, 1.0  # placeholder similarity\n",
    "    return None, 0.0\n",
    "\n",
    "# Conditional question answering\n",
    "def answer_question(query, retrieved_doc):\n",
    "    if retrieved_doc is None:\n",
    "        return \"No relevant information found.\"\n",
    "\n",
    "    query_lower = query.lower()\n",
    "    doc_lower = retrieved_doc.lower()\n",
    "\n",
    "    if \"who\" in query_lower:\n",
    "        if \"python\" in doc_lower:\n",
    "            return \"Python was created by Guido van Rossum.\"\n",
    "        elif \"ai\" in doc_lower:\n",
    "            return \"AI refers to machines that can perform tasks requiring human intelligence.\"\n",
    "    elif \"what\" in query_lower:\n",
    "        if \"ai\" in doc_lower:\n",
    "            return \"AI is a branch of computer science that creates intelligent machines.\"\n",
    "        elif \"python\" in doc_lower:\n",
    "            return \"Python is a high-level, interpreted programming language.\"\n",
    "        elif \"solar system\" in doc_lower:\n",
    "            return \"The Solar System consists of the Sun and all celestial bodies that orbit it.\"\n",
    "        elif \"world war ii\" in doc_lower:\n",
    "            return \"World War II was a global conflict from 1939 to 1945.\"\n",
    "    elif \"where\" in query_lower:\n",
    "        if \"photosynthesis\" in doc_lower:\n",
    "            return \"Photosynthesis occurs in the chloroplasts of plant cells.\"\n",
    "        elif \"solar system\" in doc_lower:\n",
    "            return \"All planets orbit the Sun.\"\n",
    "    elif \"when\" in query_lower:\n",
    "        if \"world war ii\" in doc_lower:\n",
    "            return \"World War II lasted from 1939 to 1945.\"\n",
    "\n",
    "    return retrieved_doc  # fallback\n",
    "\n",
    "# Simple RAG function\n",
    "def simple_rag(query):\n",
    "    retrieved_doc, sim = retrieve_document(query)\n",
    "    ans = answer_question(query, retrieved_doc)\n",
    "    print(f\"Query: {query}\")\n",
    "    print(f\"Retrieved Document (Sim={sim:.2f}): {retrieved_doc}\")\n",
    "    print(f\"Answer: {ans}\\n\")\n",
    "\n",
    "# Example queries\n",
    "simple_rag(\"Who created Python?\")\n",
    "simple_rag(\"When did World War II happen?\")\n",
    "simple_rag(\"What is AI?\")\n",
    "simple_rag(\"Where does photosynthesis occur?\")\n",
    "simple_rag(\"What bodies orbit the Sun?\")\n",
    "\n",
    "\n"
   ]
  }
 ],
 "metadata": {
  "kernelspec": {
   "display_name": "Python 3 (ipykernel)",
   "language": "python",
   "name": "python3"
  },
  "language_info": {
   "codemirror_mode": {
    "name": "ipython",
    "version": 3
   },
   "file_extension": ".py",
   "mimetype": "text/x-python",
   "name": "python",
   "nbconvert_exporter": "python",
   "pygments_lexer": "ipython3",
   "version": "3.10.0"
  },
  "vscode": {
   "interpreter": {
    "hash": "3196968d684371006099b3d55edeef8ed90365227a30deaef86e5d4aa8519be0"
   }
  }
 },
 "nbformat": 4,
 "nbformat_minor": 5
}
